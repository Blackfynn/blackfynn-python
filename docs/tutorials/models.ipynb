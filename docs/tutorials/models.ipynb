{
 "cells": [
  {
   "cell_type": "markdown",
   "metadata": {},
   "source": [
    "# Working with the Knowledge Graph"
   ]
  },
  {
   "cell_type": "markdown",
   "metadata": {},
   "source": [
    "This tutorial provides a set of examples that show how to interact with the [Blackfynn Knowledge graph](http://help.blackfynn.com/blackfynn-web-application/blackfynn-knowledge-graph/overview-of-the-blackfynn-knowledge-graph). Some of the topics covered here include: creating new models, creating new model instances (or records) and adding relationships between the created records."
   ]
  },
  {
   "cell_type": "markdown",
   "metadata": {},
   "source": [
    "## Defining and Creating Models\n",
    "\n",
    "Let’s start by creating a dataset that we can use for this tutorial. If you would like to find out more information about moving, uploading, downloading data or other data catalog operations, please look into the working with the data catalog tutorial."
   ]
  },
  {
   "cell_type": "code",
   "execution_count": 6,
   "metadata": {},
   "outputs": [],
   "source": [
    "# import Blackfynn\n",
    "from blackfynn import Blackfynn\n",
    "\n",
    "# create a client instance\n",
    "bf = Blackfynn()\n",
    "\n",
    "# create a dataset\n",
    "ds = bf.create_dataset('KG Tutorial')"
   ]
  },
  {
   "cell_type": "markdown",
   "metadata": {},
   "source": [
    "A model and its properties can be defined in different ways from the Blackfynn client. Here, we will create a few models using the available approaches."
   ]
  },
  {
   "cell_type": "markdown",
   "metadata": {},
   "source": [
    "### 1. Create a model using a list of properties as a schema\n",
    "\n",
    "In this approach, we first define the model schema as a `list` of `ModelProperty` instances and then use the defined schema in order to create the new model.\n",
    "\n",
    "Note that it is necessary to define _at least_ one title property for the model."
   ]
  },
  {
   "cell_type": "code",
   "execution_count": 12,
   "metadata": {},
   "outputs": [],
   "source": [
    "# import the ModelProperty class\n",
    "from blackfynn import ModelProperty\n",
    "\n",
    "# define the desired schema for the model\n",
    "defined_schema = [\n",
    "    ModelProperty('name', data_type=str, title=True),\n",
    "    ModelProperty('age', data_type=int),\n",
    "    ModelProperty('participant_number', data_type=int)\n",
    "]\n",
    "\n",
    "# creating a new model using our defined schema\n",
    "participant_model = ds.create_model('participant',\n",
    "                schema=defined_schema)"
   ]
  },
  {
   "cell_type": "markdown",
   "metadata": {},
   "source": [
    "In the step above we created a model called `participant`, with the following properties:\n",
    "- `name`\n",
    "- `age`\n",
    "- `participant_number`"
   ]
  },
  {
   "cell_type": "markdown",
   "metadata": {},
   "source": [
    "### 2. Create a model using a list of dictionaries as a schema\n",
    "\n",
    "This approach is very similar as the step shown above, with the only difference being that the schema is defined as a list of python dictionaries. We will now create another model using this approach."
   ]
  },
  {
   "cell_type": "code",
   "execution_count": 36,
   "metadata": {},
   "outputs": [],
   "source": [
    "import datetime\n",
    "\n",
    "# define the desired schema for the model\n",
    "defined_schema = [\n",
    "    {\n",
    "        'name': 'visit_id',\n",
    "        'data_type': int,\n",
    "        'title': True\n",
    "    },\n",
    "    {\n",
    "        'name': 'visit_date',\n",
    "        'data_type': datetime.datetime\n",
    "    }    \n",
    "]\n",
    "\n",
    "# create the a new model using our defined schema\n",
    "visit_model = ds.create_model('visit', schema=defined_schema)"
   ]
  },
  {
   "cell_type": "markdown",
   "metadata": {},
   "source": [
    "Above, we created a new `visit` model with the following properties:\n",
    "- `visit_number`\n",
    "- `visit_date`"
   ]
  },
  {
   "cell_type": "markdown",
   "metadata": {},
   "source": [
    "### 3. Creating a Model and defining the schema later"
   ]
  },
  {
   "cell_type": "code",
   "execution_count": 21,
   "metadata": {},
   "outputs": [],
   "source": [
    "# creating the model\n",
    "eeg_model = ds.create_model('EEG')"
   ]
  },
  {
   "cell_type": "markdown",
   "metadata": {},
   "source": [
    "Above, we created an EEG model without any properties. Now we will add some properties to the existing model using the `add_property()` method."
   ]
  },
  {
   "cell_type": "code",
   "execution_count": 24,
   "metadata": {},
   "outputs": [
    {
     "data": {
      "text/plain": [
       "<ModelProperty name='seizures_in_session' <type 'bool'>>"
      ]
     },
     "execution_count": 24,
     "metadata": {},
     "output_type": "execute_result"
    }
   ],
   "source": [
    "eeg_model.add_property('session_number', str, title=True)\n",
    "eeg_model.add_property('seizures_in_session', bool)"
   ]
  },
  {
   "cell_type": "markdown",
   "metadata": {},
   "source": [
    "Similarly, we can add several properties at a time by defining a list of python dictionaries and using the `add_properties` method."
   ]
  },
  {
   "cell_type": "code",
   "execution_count": 26,
   "metadata": {},
   "outputs": [],
   "source": [
    "# define some more properties for the EEG model\n",
    "more_properties = [\n",
    "    {\n",
    "        'name': 'room_number',\n",
    "        'data_type': int\n",
    "    },\n",
    "    {\n",
    "        'name': 'machine_model',\n",
    "        'data_type': str\n",
    "    }\n",
    "]\n",
    "\n",
    "# add several properties at a time\n",
    "eeg_model.add_properties(more_properties)"
   ]
  },
  {
   "cell_type": "markdown",
   "metadata": {},
   "source": [
    "We now have an `EEG` model with the following properties:\n",
    "- `session_number`\n",
    "- `seizures_in_session`\n",
    "- `room_number`\n",
    "- `machine_model`"
   ]
  },
  {
   "cell_type": "markdown",
   "metadata": {},
   "source": [
    "## Creating Records"
   ]
  },
  {
   "cell_type": "markdown",
   "metadata": {},
   "source": [
    "In this section we will create model instances, referred to as \"records\", for each of the models that we have created so far."
   ]
  },
  {
   "cell_type": "markdown",
   "metadata": {},
   "source": [
    "### Creating an individual record\n",
    "\n",
    "Here we will create one record for the `participant` model."
   ]
  },
  {
   "cell_type": "code",
   "execution_count": 30,
   "metadata": {},
   "outputs": [
    {
     "data": {
      "text/plain": [
       "<Record type='participant' id='1ab3bfc7-8bda-4814-31b9-282557bf2428'>"
      ]
     },
     "execution_count": 30,
     "metadata": {},
     "output_type": "execute_result"
    }
   ],
   "source": [
    "# get the the model of interest\n",
    "participant_model = ds.get_model('participant')\n",
    "\n",
    "# create a new participant in the graph\n",
    "participant_model.create_record({'name': 'deidentified_00',\n",
    "                                 'age': 34,\n",
    "                                 'participant_number': 0\n",
    "                                })"
   ]
  },
  {
   "cell_type": "markdown",
   "metadata": {},
   "source": [
    "we have now created the first participant record. We can also create multiple records at the same time through the `create_records()` method."
   ]
  },
  {
   "cell_type": "code",
   "execution_count": 33,
   "metadata": {},
   "outputs": [
    {
     "data": {
      "text/plain": [
       "[<Record type='participant' id='36b3bfc9-f82a-6462-88bf-1249f320ae43'>,\n",
       " <Record type='participant' id='88b3bfc9-f83e-2d24-dde0-e563fde3bd1c'>,\n",
       " <Record type='participant' id='82b3bfc9-f852-ca39-35c9-7b29d2e09811'>]"
      ]
     },
     "execution_count": 33,
     "metadata": {},
     "output_type": "execute_result"
    }
   ],
   "source": [
    "participants = [\n",
    "    {'name': 'deidentified_01', 'age': 67, 'participant_number': 1},\n",
    "    {'name': 'deidentified_02', 'age': 70, 'participant_number': 2},\n",
    "    {'name': 'deidentified_03', 'age': 55, 'participant_number': 3},\n",
    "]\n",
    "\n",
    "participant_model.create_records(participants)"
   ]
  },
  {
   "cell_type": "markdown",
   "metadata": {},
   "source": [
    "We now have 4 `participant` records in the knowledge graph. We will now create some records for the other existing models."
   ]
  },
  {
   "cell_type": "code",
   "execution_count": 35,
   "metadata": {},
   "outputs": [],
   "source": [
    "# get visit model\n",
    "\n",
    "visit_model = ds.get_model('visit')\n",
    "\n",
    "visit\n",
    "# {datetime.datetime(2017, 4, 5)}"
   ]
  }
 ],
 "metadata": {
  "kernelspec": {
   "display_name": "Python 2",
   "language": "python",
   "name": "python2"
  },
  "language_info": {
   "codemirror_mode": {
    "name": "ipython",
    "version": 2
   },
   "file_extension": ".py",
   "mimetype": "text/x-python",
   "name": "python",
   "nbconvert_exporter": "python",
   "pygments_lexer": "ipython2",
   "version": "2.7.10"
  }
 },
 "nbformat": 4,
 "nbformat_minor": 2
}
